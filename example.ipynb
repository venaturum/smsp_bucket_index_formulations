{
 "cells": [
  {
   "cell_type": "markdown",
   "metadata": {},
   "source": [
    "# Example Usage"
   ]
  },
  {
   "cell_type": "code",
   "execution_count": 1,
   "metadata": {},
   "outputs": [
    {
     "name": "stdout",
     "output_type": "stream",
     "text": [
      "Number of jobs: 13\n",
      "Processing times: [10, 11, 14, 11, 12, 10, 10, 12, 10, 14, 13, 14, 14]\n",
      "Due dates: [24, 22, 37, 20, 37, 31, 35, 27, 28, 39, 39, 29, 22]\n",
      "Tardy Cost: [15, 18, 18, 12, 20, 11, 7, 11, 21, 12, 7, 22, 7]\n"
     ]
    }
   ],
   "source": [
    "from smsp_bi import utils\n",
    "\n",
    "example = utils.get_example_problem()\n",
    "example.print_specs()\n"
   ]
  },
  {
   "cell_type": "markdown",
   "metadata": {},
   "source": [
    "### Import BI model"
   ]
  },
  {
   "cell_type": "code",
   "execution_count": 2,
   "metadata": {},
   "outputs": [],
   "source": [
    "# pick one\n",
    "\n",
    "#from smsp_bi.bi.pulp import BI_2\n",
    "#from smsp_bi.bi.pulp import BI_2_slim as BI\n",
    "#from smsp_bi.bi.gurobi import BI_2\n",
    "from smsp_bi.bi.gurobi import BI_2_slim as BI\n"
   ]
  },
  {
   "cell_type": "code",
   "execution_count": 3,
   "metadata": {},
   "outputs": [
    {
     "name": "stdout",
     "output_type": "stream",
     "text": [
      "Set parameter Username\n",
      "Gurobi Optimizer version 9.5.1 build v9.5.1rc2 (win64)\n",
      "Thread count: 6 physical cores, 12 logical processors, using up to 12 threads\n",
      "Optimize a model with 990 rows, 936 columns and 4064 nonzeros\n",
      "Model fingerprint: 0x25033d12\n",
      "Variable types: 606 continuous, 330 integer (330 binary)\n",
      "Coefficient statistics:\n",
      "  Matrix range     [1e+00, 1e+02]\n",
      "  Objective range  [7e+01, 2e+02]\n",
      "  Bounds range     [1e+00, 1e+00]\n",
      "  RHS range        [1e+00, 1e+01]\n",
      "Presolve removed 335 rows and 298 columns\n",
      "Presolve time: 0.03s\n",
      "Presolved: 655 rows, 638 columns, 3065 nonzeros\n",
      "Variable types: 308 continuous, 330 integer (330 binary)\n",
      "Found heuristic solution: objective 9885.0000000\n",
      "\n",
      "Root relaxation: objective 5.205208e+03, 293 iterations, 0.01 seconds (0.00 work units)\n",
      "\n",
      "    Nodes    |    Current Node    |     Objective Bounds      |     Work\n",
      " Expl Unexpl |  Obj  Depth IntInf | Incumbent    BestBd   Gap | It/Node Time\n",
      "\n",
      "     0     0 5205.20800    0   19 9885.00000 5205.20800  47.3%     -    0s\n",
      "H    0     0                    5991.0000000 5205.20800  13.1%     -    0s\n",
      "H    0     0                    5268.0000000 5233.43733  0.66%     -    0s\n",
      "     0     0 5234.03347    0   42 5268.00000 5234.03347  0.64%     -    0s\n",
      "     0     0 5253.95409    0   29 5268.00000 5253.95409  0.27%     -    0s\n",
      "     0     0 5253.95409    0   19 5268.00000 5253.95409  0.27%     -    0s\n",
      "     0     0 5267.12500    0    6 5268.00000 5267.12500  0.02%     -    0s\n",
      "\n",
      "Cutting planes:\n",
      "  Gomory: 7\n",
      "  Cover: 2\n",
      "  Implied bound: 1\n",
      "  Clique: 1\n",
      "  MIR: 3\n",
      "  Flow cover: 3\n",
      "  RLT: 9\n",
      "  Relax-and-lift: 3\n",
      "\n",
      "Explored 1 nodes (703 simplex iterations) in 0.24 seconds (0.05 work units)\n",
      "Thread count was 12 (of 12 available processors)\n",
      "\n",
      "Solution count 3: 5268 5991 9885 \n",
      "\n",
      "Optimal solution found (tolerance 1.00e-04)\n",
      "Best objective 5.268000000000e+03, best bound 5.268000000000e+03, gap 0.0000%\n"
     ]
    }
   ],
   "source": [
    "bi_model = BI(example)\n",
    "bi_model.optimize()"
   ]
  },
  {
   "cell_type": "code",
   "execution_count": 4,
   "metadata": {},
   "outputs": [
    {
     "name": "stdout",
     "output_type": "stream",
     "text": [
      "Objective calculated from schedule: 5268\n"
     ]
    }
   ],
   "source": [
    "schedule = bi_model.get_schedule()\n",
    "schedule.validate()\n",
    "print(f\"Objective calculated from schedule: {example.get_objective_from_schedule(schedule)}\")"
   ]
  },
  {
   "cell_type": "markdown",
   "metadata": {},
   "source": [
    "### Import TI model"
   ]
  },
  {
   "cell_type": "code",
   "execution_count": 5,
   "metadata": {},
   "outputs": [],
   "source": [
    "# pick one\n",
    "\n",
    "#from smsp_bi.ti.pulp import TI\n",
    "from smsp_bi.ti.gurobi import TI"
   ]
  },
  {
   "cell_type": "code",
   "execution_count": 6,
   "metadata": {},
   "outputs": [
    {
     "name": "stdout",
     "output_type": "stream",
     "text": [
      "Gurobi Optimizer version 9.5.1 build v9.5.1rc2 (win64)\n",
      "Thread count: 6 physical cores, 12 logical processors, using up to 12 threads\n",
      "Optimize a model with 168 rows, 1873 columns and 24170 nonzeros\n",
      "Model fingerprint: 0xfc6acce0\n",
      "Variable types: 0 continuous, 1873 integer (1873 binary)\n",
      "Coefficient statistics:\n",
      "  Matrix range     [1e+00, 1e+00]\n",
      "  Objective range  [7e+00, 2e+03]\n",
      "  Bounds range     [1e+00, 1e+00]\n",
      "  RHS range        [1e+00, 1e+00]\n",
      "Presolve removed 24 rows and 195 columns\n",
      "Presolve time: 0.14s\n",
      "Presolved: 144 rows, 1678 columns, 20506 nonzeros\n",
      "Variable types: 0 continuous, 1678 integer (1678 binary)\n",
      "Found heuristic solution: objective 9512.0000000\n",
      "\n",
      "Root relaxation: objective 5.268000e+03, 626 iterations, 0.06 seconds (0.02 work units)\n",
      "\n",
      "    Nodes    |    Current Node    |     Objective Bounds      |     Work\n",
      " Expl Unexpl |  Obj  Depth IntInf | Incumbent    BestBd   Gap | It/Node Time\n",
      "\n",
      "*    0     0               0    5268.0000000 5268.00000  0.00%     -    0s\n",
      "\n",
      "Explored 1 nodes (626 simplex iterations) in 0.30 seconds (0.11 work units)\n",
      "Thread count was 12 (of 12 available processors)\n",
      "\n",
      "Solution count 2: 5268 9512 \n",
      "\n",
      "Optimal solution found (tolerance 1.00e-04)\n",
      "Best objective 5.268000000000e+03, best bound 5.268000000000e+03, gap 0.0000%\n"
     ]
    }
   ],
   "source": [
    "ti_model = TI(example)\n",
    "ti_model.optimize()"
   ]
  },
  {
   "cell_type": "code",
   "execution_count": 7,
   "metadata": {},
   "outputs": [
    {
     "name": "stdout",
     "output_type": "stream",
     "text": [
      "Objective calculated from schedule: 5268\n"
     ]
    }
   ],
   "source": [
    "schedule = ti_model.get_schedule()\n",
    "schedule.validate()\n",
    "print(f\"Objective calculated from schedule: {example.get_objective_from_schedule(schedule)}\")"
   ]
  }
 ],
 "metadata": {
  "interpreter": {
   "hash": "b59ef081067572a241174520c497e1ed52713ca733eadb56febbeebdddfe55ee"
  },
  "kernelspec": {
   "display_name": "Python 3.8.7 ('smsp-bi-FbNZrCRi-py3.8')",
   "language": "python",
   "name": "python3"
  },
  "language_info": {
   "codemirror_mode": {
    "name": "ipython",
    "version": 3
   },
   "file_extension": ".py",
   "mimetype": "text/x-python",
   "name": "python",
   "nbconvert_exporter": "python",
   "pygments_lexer": "ipython3",
   "version": "3.8.7"
  },
  "orig_nbformat": 4
 },
 "nbformat": 4,
 "nbformat_minor": 2
}

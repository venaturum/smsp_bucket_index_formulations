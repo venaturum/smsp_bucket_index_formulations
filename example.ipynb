{
 "cells": [
  {
   "cell_type": "markdown",
   "metadata": {},
   "source": [
    "# Example Usage"
   ]
  },
  {
   "cell_type": "code",
   "execution_count": 1,
   "metadata": {},
   "outputs": [
    {
     "name": "stdout",
     "output_type": "stream",
     "text": [
      "Number of jobs: 12\n",
      "Processing times: [11, 5, 6, 7, 5, 7, 12, 18, 11, 17, 14, 9]\n",
      "Due dates: [9, 15, 78, 33, 42, 24, 8, 25, 12, 10, 34, 62]\n",
      "Tardy Cost: [10, 5, 3, 5, 2, 7, 7, 5, 10, 8, 3, 4]\n"
     ]
    }
   ],
   "source": [
    "from smsp_bi import utils\n",
    "\n",
    "example = utils.get_example_problem()\n",
    "example.print_specs()\n"
   ]
  },
  {
   "cell_type": "markdown",
   "metadata": {},
   "source": [
    "### Import BI model"
   ]
  },
  {
   "cell_type": "code",
   "execution_count": 2,
   "metadata": {},
   "outputs": [],
   "source": [
    "# pick one\n",
    "\n",
    "#from smsp_bi.bi.pulp import BI\n",
    "#from smsp_bi.bi.pulp import BI_slim as BI\n",
    "#from smsp_bi.bi.gurobi import BI\n",
    "from smsp_bi.bi.gurobi import BI_slim as BI\n"
   ]
  },
  {
   "cell_type": "code",
   "execution_count": 3,
   "metadata": {},
   "outputs": [
    {
     "name": "stdout",
     "output_type": "stream",
     "text": [
      "Set parameter Username\n",
      "Gurobi Optimizer version 9.5.1 build v9.5.1rc2 (win64)\n",
      "Thread count: 6 physical cores, 12 logical processors, using up to 12 threads\n",
      "Optimize a model with 1485 rows, 1417 columns and 6957 nonzeros\n",
      "Model fingerprint: 0xc5407200\n",
      "Variable types: 905 continuous, 512 integer (512 binary)\n",
      "Coefficient statistics:\n",
      "  Matrix range     [1e+00, 1e+02]\n",
      "  Objective range  [1e+01, 5e+01]\n",
      "  Bounds range     [1e+00, 1e+00]\n",
      "  RHS range        [1e+00, 5e+00]\n",
      "Presolve removed 623 rows and 502 columns\n",
      "Presolve time: 0.07s\n",
      "Presolved: 862 rows, 915 columns, 5132 nonzeros\n",
      "Variable types: 403 continuous, 512 integer (512 binary)\n",
      "\n",
      "Root relaxation: objective 1.295674e+03, 504 iterations, 0.03 seconds (0.01 work units)\n",
      "\n",
      "    Nodes    |    Current Node    |     Objective Bounds      |     Work\n",
      " Expl Unexpl |  Obj  Depth IntInf | Incumbent    BestBd   Gap | It/Node Time\n",
      "\n",
      "     0     0 1295.67360    0   23          - 1295.67360      -     -    0s\n",
      "H    0     0                    1504.0000000 1295.67360  13.9%     -    0s\n",
      "H    0     0                    1317.0000000 1295.67360  1.62%     -    0s\n",
      "     0     0 1299.08785    0   34 1317.00000 1299.08785  1.36%     -    0s\n",
      "     0     0 1299.08785    0   27 1317.00000 1299.08785  1.36%     -    0s\n",
      "H    0     0                    1310.0000000 1299.08785  0.83%     -    0s\n",
      "     0     0 1302.01659    0   29 1310.00000 1302.01659  0.61%     -    0s\n",
      "H    0     0                    1304.0000000 1302.01659  0.15%     -    0s\n",
      "     0     0 1302.10931    0   29 1304.00000 1302.10931  0.14%     -    0s\n",
      "     0     0 1303.25000    0    4 1304.00000 1303.25000  0.06%     -    0s\n",
      "\n",
      "Cutting planes:\n",
      "  Gomory: 4\n",
      "  Cover: 3\n",
      "  Implied bound: 1\n",
      "  Clique: 1\n",
      "  MIR: 5\n",
      "  Flow cover: 5\n",
      "  GUB cover: 1\n",
      "  RLT: 5\n",
      "\n",
      "Explored 1 nodes (927 simplex iterations) in 0.48 seconds (0.07 work units)\n",
      "Thread count was 12 (of 12 available processors)\n",
      "\n",
      "Solution count 4: 1304 1310 1317 1504 \n",
      "\n",
      "Optimal solution found (tolerance 1.00e-04)\n",
      "Best objective 1.304000000000e+03, best bound 1.304000000000e+03, gap 0.0000%\n"
     ]
    }
   ],
   "source": [
    "bi_model = BI(example)\n",
    "bi_model.optimize()"
   ]
  },
  {
   "cell_type": "code",
   "execution_count": 4,
   "metadata": {},
   "outputs": [
    {
     "name": "stdout",
     "output_type": "stream",
     "text": [
      "Objective calculated from schedule: 1304\n"
     ]
    }
   ],
   "source": [
    "schedule = bi_model.get_schedule()\n",
    "schedule.validate()\n",
    "print(f\"Objective calculated from schedule: {example.get_objective_from_schedule(schedule)}\")"
   ]
  },
  {
   "cell_type": "markdown",
   "metadata": {},
   "source": [
    "### Import TI model"
   ]
  },
  {
   "cell_type": "code",
   "execution_count": 5,
   "metadata": {},
   "outputs": [],
   "source": [
    "# pick one\n",
    "\n",
    "#from smsp_bi.ti.pulp import TI\n",
    "from smsp_bi.ti.gurobi import TI"
   ]
  },
  {
   "cell_type": "code",
   "execution_count": 6,
   "metadata": {},
   "outputs": [
    {
     "name": "stdout",
     "output_type": "stream",
     "text": [
      "Gurobi Optimizer version 9.5.1 build v9.5.1rc2 (win64)\n",
      "Thread count: 6 physical cores, 12 logical processors, using up to 12 threads\n",
      "Optimize a model with 134 rows, 1354 columns and 14900 nonzeros\n",
      "Model fingerprint: 0xab25aefc\n",
      "Variable types: 0 continuous, 1354 integer (1354 binary)\n",
      "Coefficient statistics:\n",
      "  Matrix range     [1e+00, 1e+00]\n",
      "  Objective range  [2e+00, 1e+03]\n",
      "  Bounds range     [1e+00, 1e+00]\n",
      "  RHS range        [1e+00, 1e+00]\n",
      "Presolve removed 9 rows and 61 columns\n",
      "Presolve time: 0.09s\n",
      "Presolved: 125 rows, 1293 columns, 14013 nonzeros\n",
      "Variable types: 0 continuous, 1293 integer (1293 binary)\n",
      "Found heuristic solution: objective 3273.0000000\n",
      "\n",
      "Root relaxation: objective 1.304000e+03, 408 iterations, 0.03 seconds (0.01 work units)\n",
      "\n",
      "    Nodes    |    Current Node    |     Objective Bounds      |     Work\n",
      " Expl Unexpl |  Obj  Depth IntInf | Incumbent    BestBd   Gap | It/Node Time\n",
      "\n",
      "*    0     0               0    1304.0000000 1304.00000  0.00%     -    0s\n",
      "\n",
      "Explored 1 nodes (408 simplex iterations) in 0.20 seconds (0.06 work units)\n",
      "Thread count was 12 (of 12 available processors)\n",
      "\n",
      "Solution count 2: 1304 3273 \n",
      "\n",
      "Optimal solution found (tolerance 1.00e-04)\n",
      "Best objective 1.304000000000e+03, best bound 1.304000000000e+03, gap 0.0000%\n"
     ]
    }
   ],
   "source": [
    "ti_model = TI(example)\n",
    "ti_model.optimize()"
   ]
  },
  {
   "cell_type": "code",
   "execution_count": 7,
   "metadata": {},
   "outputs": [
    {
     "name": "stdout",
     "output_type": "stream",
     "text": [
      "Objective calculated from schedule: 1304\n"
     ]
    }
   ],
   "source": [
    "schedule = ti_model.get_schedule()\n",
    "schedule.validate()\n",
    "print(f\"Objective calculated from schedule: {example.get_objective_from_schedule(schedule)}\")"
   ]
  }
 ],
 "metadata": {
  "interpreter": {
   "hash": "b59ef081067572a241174520c497e1ed52713ca733eadb56febbeebdddfe55ee"
  },
  "kernelspec": {
   "display_name": "Python 3.8.7 ('smsp-bi-FbNZrCRi-py3.8')",
   "language": "python",
   "name": "python3"
  },
  "language_info": {
   "codemirror_mode": {
    "name": "ipython",
    "version": 3
   },
   "file_extension": ".py",
   "mimetype": "text/x-python",
   "name": "python",
   "nbconvert_exporter": "python",
   "pygments_lexer": "ipython3",
   "version": "3.8.7"
  },
  "orig_nbformat": 4
 },
 "nbformat": 4,
 "nbformat_minor": 2
}
